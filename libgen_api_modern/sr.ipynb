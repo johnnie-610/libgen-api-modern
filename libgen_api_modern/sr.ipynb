{
 "cells": [
  {
   "cell_type": "code",
   "execution_count": 1,
   "metadata": {},
   "outputs": [],
   "source": [
    "import asyncio\n",
    "im"
   ]
  },
  {
   "cell_type": "code",
   "execution_count": 2,
   "metadata": {},
   "outputs": [
    {
     "name": "stdout",
     "output_type": "stream",
     "text": [
      "[<Element table at 0x7f9421b10be0>, <Element table at 0x7f9421b118b0>, <Element table at 0x7f9421b12990>, <Element table at 0x7f9421b11f40>]\n"
     ]
    },
    {
     "data": {
      "text/plain": [
       "'No results'"
      ]
     },
     "execution_count": 2,
     "metadata": {},
     "output_type": "execute_result"
    }
   ],
   "source": [
    "await LibgenSearch.search('python')"
   ]
  }
 ],
 "metadata": {
  "kernelspec": {
   "display_name": "libgen-api-modern-9rLH4MT2-py3.11",
   "language": "python",
   "name": "python3"
  },
  "language_info": {
   "codemirror_mode": {
    "name": "ipython",
    "version": 3
   },
   "file_extension": ".py",
   "mimetype": "text/x-python",
   "name": "python",
   "nbconvert_exporter": "python",
   "pygments_lexer": "ipython3",
   "version": "3.11.2"
  }
 },
 "nbformat": 4,
 "nbformat_minor": 2
}
